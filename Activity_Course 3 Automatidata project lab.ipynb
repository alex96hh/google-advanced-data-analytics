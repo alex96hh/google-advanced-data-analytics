{
 "cells": [
  {
   "cell_type": "markdown",
   "metadata": {
    "id": "DtNBZFHO3M7n"
   },
   "source": [
    "# **Course 3 Automatidata project**\n",
    "**Course 3 - Go Beyond the Numbers: Translate Data into Insights**"
   ]
  },
  {
   "cell_type": "markdown",
   "metadata": {
    "id": "g-E8SNtmRUkN"
   },
   "source": [
    "You are the newest data professional in a fictional data consulting firm: Automatidata. The team is still early into the project, having only just completed an initial plan of action and some early Python coding work. \n",
    "\n",
    "Luana Rodriquez, the senior data analyst at Automatidata, is pleased with the work you have already completed and requests your assistance with some EDA and data visualization work for the New York City Taxi and Limousine Commission project (New York City TLC) to get a general understanding of what taxi ridership looks like. The management team is asking for a Python notebook showing data structuring and cleaning, as well as any matplotlib/seaborn visualizations plotted to help understand the data. At the very least, include a box plot of the ride durations and some time series plots, like a breakdown by quarter or month. \n",
    "\n",
    "Additionally, the management team has recently asked all EDA to include Tableau visualizations. For this taxi data, create a Tableau dashboard showing a New York City map of taxi/limo trips by month. Make sure it is easy to understand to someone who isn’t data savvy, and remember that the assistant director at the New York City TLC is a person with visual impairments.\n",
    "\n",
    "A notebook was structured and prepared to help you in this project. Please complete the following questions."
   ]
  },
  {
   "cell_type": "markdown",
   "metadata": {
    "id": "rgSbVJvomcVa"
   },
   "source": [
    "# Course 3 End-of-course project: Exploratory data analysis\n",
    "\n",
    "In this activity, you will examine data provided and prepare it for analysis. You will also design a professional data visualization that tells a story, and will help data-driven decisions for business needs. \n",
    "\n",
    "Please note that the Tableau visualization activity is optional, and will not affect your completion of the course. Completing the Tableau activity will help you practice planning out and plotting a data visualization based on a specific business need. The structure of this activity is designed to emulate the proposals you will likely be assigned in your career as a data professional. Completing this activity will help prepare you for those career moments.\n",
    "\n",
    "**The purpose** of this project is to conduct exploratory data analysis on a provided data set. Your mission is to continue the investigation you began in C2 and perform further EDA on this data with the aim of learning more about the variables. \n",
    "  \n",
    "**The goal** is to clean data set and create a visualization.\n",
    "<br/>  \n",
    "*This activity has 4 parts:*\n",
    "\n",
    "**Part 1:** Imports, links, and loading\n",
    "\n",
    "**Part 2:** Data Exploration\n",
    "*   Data cleaning\n",
    "\n",
    "\n",
    "**Part 3:** Building visualizations\n",
    "\n",
    "**Part 4:** Evaluate and share results\n",
    "\n",
    "<br/> \n",
    "Follow the instructions and answer the questions below to complete the activity. Then, you will complete an Executive Summary using the questions listed on the PACE Strategy Document.\n",
    "\n",
    "Be sure to complete this activity before moving on. The next course item will provide you with a completed exemplar to compare to your own work. \n",
    "\n"
   ]
  },
  {
   "cell_type": "markdown",
   "metadata": {
    "id": "p5CHWd9rxIyp"
   },
   "source": [
    "# **Visualize a story in Tableau and Python**"
   ]
  },
  {
   "cell_type": "markdown",
   "metadata": {
    "id": "rdR5eWbYx8GE"
   },
   "source": [
    "# **PACE stages** \n",
    "\n",
    "\n",
    "<img src=\"images/Pace.png\" width=\"100\" height=\"100\" align=left>\n",
    "\n",
    "   *        [Plan](#scrollTo=psz51YkZVwtN&line=3&uniqifier=1)\n",
    "   *        [Analyze](#scrollTo=mA7Mz_SnI8km&line=4&uniqifier=1)\n",
    "   *        [Construct](#scrollTo=Lca9c8XON8lc&line=2&uniqifier=1)\n",
    "   *        [Execute](#scrollTo=401PgchTPr4E&line=2&uniqifier=1)"
   ]
  },
  {
   "cell_type": "markdown",
   "metadata": {},
   "source": [
    "Throughout these project notebooks, you'll see references to the problem-solving framework PACE. The following notebook components are labeled with the respective PACE stage: Plan, Analyze, Construct, and Execute."
   ]
  },
  {
   "cell_type": "markdown",
   "metadata": {
    "id": "xKLZJUqMx8GE"
   },
   "source": [
    "<img src=\"images/Plan.png\" width=\"100\" height=\"100\" align=left>\n",
    "\n",
    "\n",
    "## PACE: Plan \n",
    "\n",
    "In this stage, consider the following questions where applicable to complete your code response:\n",
    "1. Identify any outliers: \n",
    "\n",
    "\n",
    "*   What methods are best for identifying outliers?\n",
    "*   How do you make the decision to keep or exclude outliers from any future models?\n",
    "\n"
   ]
  },
  {
   "cell_type": "markdown",
   "metadata": {},
   "source": [
    "Box plots are graphic tool to assess whether the data contains outliers. In order to decide whether outliers need to be removed \"industry knowledge\" is required. Ideally, one would consult with the data owner to check for data errors. However, even if the outliers are not due to data errors but rather extra-ordinary \"one-time\" events they might still negatively impact the performance of regression and machine learning models."
   ]
  },
  {
   "cell_type": "markdown",
   "metadata": {
    "id": "SKur6gTPRcvy"
   },
   "source": [
    "### Task 1. Imports, links, and loading\n",
    "Go to Tableau Public\n",
    "The following link will help you complete this activity. Keep Tableau Public open as you proceed to the next steps. \n",
    "\n",
    "Link to supporting materials: \n",
    "Tableau Public: https://public.tableau.com/s/ \n",
    "\n",
    "For EDA of the data, import the data and packages that would be most helpful, such as pandas, numpy and matplotlib. \n"
   ]
  },
  {
   "cell_type": "code",
   "execution_count": 1,
   "metadata": {
    "id": "EO8vKZI8x8GF"
   },
   "outputs": [],
   "source": [
    "# Import packages and libraries\n",
    "import numpy as np\n",
    "import pandas as pd\n",
    "import matplotlib.pyplot as plt\n",
    "import seaborn as sns\n"
   ]
  },
  {
   "cell_type": "markdown",
   "metadata": {},
   "source": [
    "**Note:** As shown in this cell, the dataset has been automatically loaded in for you. You do not need to download the .csv file, or provide more code, in order to access the dataset and proceed with this lab. Please continue with this activity by completing the following instructions."
   ]
  },
  {
   "cell_type": "code",
   "execution_count": 2,
   "metadata": {
    "id": "w7XSDxoqyF9D"
   },
   "outputs": [],
   "source": [
    "# Load dataset into dataframe\n",
    "df = pd.read_csv('2017_Yellow_Taxi_Trip_Data.csv')"
   ]
  },
  {
   "cell_type": "markdown",
   "metadata": {
    "id": "3mipEiyZx8GI"
   },
   "source": [
    "<img src=\"images/Analyze.png\" width=\"100\" height=\"100\" align=left>\n",
    "\n",
    "## PACE: Analyze \n",
    "\n",
    "Consider the questions in your PACE Strategy Document to reflect on the Analyze stage."
   ]
  },
  {
   "cell_type": "markdown",
   "metadata": {
    "id": "n09krlKWRw_2"
   },
   "source": [
    "### Task 2a. Data exploration and cleaning\n",
    "\n",
    "Decide which columns are applicable\n",
    "\n",
    "The first step is to assess your data. Check the Data Source page on Tableau Public to get a sense of the size, shape and makeup of the data set. Then answer these questions to yourself: \n",
    "\n",
    "Given our scenario, which data columns are most applicable? \n",
    "Which data columns can I eliminate, knowing they won’t solve our problem scenario? \n",
    "\n",
    "Consider functions that help you understand and structure the data. \n",
    "\n",
    "*    head()\n",
    "*    describe()\n",
    "*    info()\n",
    "*    groupby()\n",
    "*    sortby()\n",
    "\n",
    "What do you do about missing data (if any)? \n",
    "\n",
    "Are there data outliers? What are they and how might you handle them? \n",
    "\n",
    "What do the distributions of your variables tell you about the question you're asking or the problem you're trying to solve?\n",
    "\n",
    "\n"
   ]
  },
  {
   "cell_type": "markdown",
   "metadata": {},
   "source": [
    "There is no null-encoded missing data. However RatecodeID still contains values above the maximum laid out in the data dictionary. Fare and total amounts still contain outliers discussed at an earlier stage (negative values and implausibly high values)."
   ]
  },
  {
   "cell_type": "markdown",
   "metadata": {
    "id": "uk6zuv_mUU2k"
   },
   "source": [
    "Start by discovering, using head and size. "
   ]
  },
  {
   "cell_type": "code",
   "execution_count": 3,
   "metadata": {
    "id": "cBOUo5p-tbib"
   },
   "outputs": [
    {
     "data": {
      "text/html": [
       "<div>\n",
       "<style scoped>\n",
       "    .dataframe tbody tr th:only-of-type {\n",
       "        vertical-align: middle;\n",
       "    }\n",
       "\n",
       "    .dataframe tbody tr th {\n",
       "        vertical-align: top;\n",
       "    }\n",
       "\n",
       "    .dataframe thead th {\n",
       "        text-align: right;\n",
       "    }\n",
       "</style>\n",
       "<table border=\"1\" class=\"dataframe\">\n",
       "  <thead>\n",
       "    <tr style=\"text-align: right;\">\n",
       "      <th></th>\n",
       "      <th>Unnamed: 0</th>\n",
       "      <th>VendorID</th>\n",
       "      <th>tpep_pickup_datetime</th>\n",
       "      <th>tpep_dropoff_datetime</th>\n",
       "      <th>passenger_count</th>\n",
       "      <th>trip_distance</th>\n",
       "      <th>RatecodeID</th>\n",
       "      <th>store_and_fwd_flag</th>\n",
       "      <th>PULocationID</th>\n",
       "      <th>DOLocationID</th>\n",
       "      <th>payment_type</th>\n",
       "      <th>fare_amount</th>\n",
       "      <th>extra</th>\n",
       "      <th>mta_tax</th>\n",
       "      <th>tip_amount</th>\n",
       "      <th>tolls_amount</th>\n",
       "      <th>improvement_surcharge</th>\n",
       "      <th>total_amount</th>\n",
       "    </tr>\n",
       "  </thead>\n",
       "  <tbody>\n",
       "    <tr>\n",
       "      <th>0</th>\n",
       "      <td>24870114</td>\n",
       "      <td>2</td>\n",
       "      <td>03/25/2017 8:55:43 AM</td>\n",
       "      <td>03/25/2017 9:09:47 AM</td>\n",
       "      <td>6</td>\n",
       "      <td>3.34</td>\n",
       "      <td>1</td>\n",
       "      <td>N</td>\n",
       "      <td>100</td>\n",
       "      <td>231</td>\n",
       "      <td>1</td>\n",
       "      <td>13.0</td>\n",
       "      <td>0.0</td>\n",
       "      <td>0.5</td>\n",
       "      <td>2.76</td>\n",
       "      <td>0.0</td>\n",
       "      <td>0.3</td>\n",
       "      <td>16.56</td>\n",
       "    </tr>\n",
       "    <tr>\n",
       "      <th>1</th>\n",
       "      <td>35634249</td>\n",
       "      <td>1</td>\n",
       "      <td>04/11/2017 2:53:28 PM</td>\n",
       "      <td>04/11/2017 3:19:58 PM</td>\n",
       "      <td>1</td>\n",
       "      <td>1.80</td>\n",
       "      <td>1</td>\n",
       "      <td>N</td>\n",
       "      <td>186</td>\n",
       "      <td>43</td>\n",
       "      <td>1</td>\n",
       "      <td>16.0</td>\n",
       "      <td>0.0</td>\n",
       "      <td>0.5</td>\n",
       "      <td>4.00</td>\n",
       "      <td>0.0</td>\n",
       "      <td>0.3</td>\n",
       "      <td>20.80</td>\n",
       "    </tr>\n",
       "    <tr>\n",
       "      <th>2</th>\n",
       "      <td>106203690</td>\n",
       "      <td>1</td>\n",
       "      <td>12/15/2017 7:26:56 AM</td>\n",
       "      <td>12/15/2017 7:34:08 AM</td>\n",
       "      <td>1</td>\n",
       "      <td>1.00</td>\n",
       "      <td>1</td>\n",
       "      <td>N</td>\n",
       "      <td>262</td>\n",
       "      <td>236</td>\n",
       "      <td>1</td>\n",
       "      <td>6.5</td>\n",
       "      <td>0.0</td>\n",
       "      <td>0.5</td>\n",
       "      <td>1.45</td>\n",
       "      <td>0.0</td>\n",
       "      <td>0.3</td>\n",
       "      <td>8.75</td>\n",
       "    </tr>\n",
       "    <tr>\n",
       "      <th>3</th>\n",
       "      <td>38942136</td>\n",
       "      <td>2</td>\n",
       "      <td>05/07/2017 1:17:59 PM</td>\n",
       "      <td>05/07/2017 1:48:14 PM</td>\n",
       "      <td>1</td>\n",
       "      <td>3.70</td>\n",
       "      <td>1</td>\n",
       "      <td>N</td>\n",
       "      <td>188</td>\n",
       "      <td>97</td>\n",
       "      <td>1</td>\n",
       "      <td>20.5</td>\n",
       "      <td>0.0</td>\n",
       "      <td>0.5</td>\n",
       "      <td>6.39</td>\n",
       "      <td>0.0</td>\n",
       "      <td>0.3</td>\n",
       "      <td>27.69</td>\n",
       "    </tr>\n",
       "    <tr>\n",
       "      <th>4</th>\n",
       "      <td>30841670</td>\n",
       "      <td>2</td>\n",
       "      <td>04/15/2017 11:32:20 PM</td>\n",
       "      <td>04/15/2017 11:49:03 PM</td>\n",
       "      <td>1</td>\n",
       "      <td>4.37</td>\n",
       "      <td>1</td>\n",
       "      <td>N</td>\n",
       "      <td>4</td>\n",
       "      <td>112</td>\n",
       "      <td>2</td>\n",
       "      <td>16.5</td>\n",
       "      <td>0.5</td>\n",
       "      <td>0.5</td>\n",
       "      <td>0.00</td>\n",
       "      <td>0.0</td>\n",
       "      <td>0.3</td>\n",
       "      <td>17.80</td>\n",
       "    </tr>\n",
       "  </tbody>\n",
       "</table>\n",
       "</div>"
      ],
      "text/plain": [
       "   Unnamed: 0  VendorID    tpep_pickup_datetime   tpep_dropoff_datetime  \\\n",
       "0    24870114         2   03/25/2017 8:55:43 AM   03/25/2017 9:09:47 AM   \n",
       "1    35634249         1   04/11/2017 2:53:28 PM   04/11/2017 3:19:58 PM   \n",
       "2   106203690         1   12/15/2017 7:26:56 AM   12/15/2017 7:34:08 AM   \n",
       "3    38942136         2   05/07/2017 1:17:59 PM   05/07/2017 1:48:14 PM   \n",
       "4    30841670         2  04/15/2017 11:32:20 PM  04/15/2017 11:49:03 PM   \n",
       "\n",
       "   passenger_count  trip_distance  RatecodeID store_and_fwd_flag  \\\n",
       "0                6           3.34           1                  N   \n",
       "1                1           1.80           1                  N   \n",
       "2                1           1.00           1                  N   \n",
       "3                1           3.70           1                  N   \n",
       "4                1           4.37           1                  N   \n",
       "\n",
       "   PULocationID  DOLocationID  payment_type  fare_amount  extra  mta_tax  \\\n",
       "0           100           231             1         13.0    0.0      0.5   \n",
       "1           186            43             1         16.0    0.0      0.5   \n",
       "2           262           236             1          6.5    0.0      0.5   \n",
       "3           188            97             1         20.5    0.0      0.5   \n",
       "4             4           112             2         16.5    0.5      0.5   \n",
       "\n",
       "   tip_amount  tolls_amount  improvement_surcharge  total_amount  \n",
       "0        2.76           0.0                    0.3         16.56  \n",
       "1        4.00           0.0                    0.3         20.80  \n",
       "2        1.45           0.0                    0.3          8.75  \n",
       "3        6.39           0.0                    0.3         27.69  \n",
       "4        0.00           0.0                    0.3         17.80  "
      ]
     },
     "execution_count": 3,
     "metadata": {},
     "output_type": "execute_result"
    }
   ],
   "source": [
    "df.head()"
   ]
  },
  {
   "cell_type": "code",
   "execution_count": 4,
   "metadata": {
    "id": "GvT82D1qyF9F"
   },
   "outputs": [
    {
     "data": {
      "text/plain": [
       "408582"
      ]
     },
     "execution_count": 4,
     "metadata": {},
     "output_type": "execute_result"
    }
   ],
   "source": [
    "df.size"
   ]
  },
  {
   "cell_type": "markdown",
   "metadata": {
    "id": "WulP4lZ9UVgy"
   },
   "source": [
    "Use describe... "
   ]
  },
  {
   "cell_type": "code",
   "execution_count": 5,
   "metadata": {
    "id": "xMpkdNQ0UPmW",
    "scrolled": true
   },
   "outputs": [
    {
     "data": {
      "text/html": [
       "<div>\n",
       "<style scoped>\n",
       "    .dataframe tbody tr th:only-of-type {\n",
       "        vertical-align: middle;\n",
       "    }\n",
       "\n",
       "    .dataframe tbody tr th {\n",
       "        vertical-align: top;\n",
       "    }\n",
       "\n",
       "    .dataframe thead th {\n",
       "        text-align: right;\n",
       "    }\n",
       "</style>\n",
       "<table border=\"1\" class=\"dataframe\">\n",
       "  <thead>\n",
       "    <tr style=\"text-align: right;\">\n",
       "      <th></th>\n",
       "      <th>Unnamed: 0</th>\n",
       "      <th>VendorID</th>\n",
       "      <th>passenger_count</th>\n",
       "      <th>trip_distance</th>\n",
       "      <th>RatecodeID</th>\n",
       "      <th>PULocationID</th>\n",
       "      <th>DOLocationID</th>\n",
       "      <th>payment_type</th>\n",
       "      <th>fare_amount</th>\n",
       "      <th>extra</th>\n",
       "      <th>mta_tax</th>\n",
       "      <th>tip_amount</th>\n",
       "      <th>tolls_amount</th>\n",
       "      <th>improvement_surcharge</th>\n",
       "      <th>total_amount</th>\n",
       "    </tr>\n",
       "  </thead>\n",
       "  <tbody>\n",
       "    <tr>\n",
       "      <th>count</th>\n",
       "      <td>2.269900e+04</td>\n",
       "      <td>22699.000000</td>\n",
       "      <td>22699.000000</td>\n",
       "      <td>22699.000000</td>\n",
       "      <td>22699.000000</td>\n",
       "      <td>22699.000000</td>\n",
       "      <td>22699.000000</td>\n",
       "      <td>22699.000000</td>\n",
       "      <td>22699.000000</td>\n",
       "      <td>22699.000000</td>\n",
       "      <td>22699.000000</td>\n",
       "      <td>22699.000000</td>\n",
       "      <td>22699.000000</td>\n",
       "      <td>22699.000000</td>\n",
       "      <td>22699.000000</td>\n",
       "    </tr>\n",
       "    <tr>\n",
       "      <th>mean</th>\n",
       "      <td>5.675849e+07</td>\n",
       "      <td>1.556236</td>\n",
       "      <td>1.642319</td>\n",
       "      <td>2.913313</td>\n",
       "      <td>1.043394</td>\n",
       "      <td>162.412353</td>\n",
       "      <td>161.527997</td>\n",
       "      <td>1.336887</td>\n",
       "      <td>13.026629</td>\n",
       "      <td>0.333275</td>\n",
       "      <td>0.497445</td>\n",
       "      <td>1.835781</td>\n",
       "      <td>0.312542</td>\n",
       "      <td>0.299551</td>\n",
       "      <td>16.310502</td>\n",
       "    </tr>\n",
       "    <tr>\n",
       "      <th>std</th>\n",
       "      <td>3.274493e+07</td>\n",
       "      <td>0.496838</td>\n",
       "      <td>1.285231</td>\n",
       "      <td>3.653171</td>\n",
       "      <td>0.708391</td>\n",
       "      <td>66.633373</td>\n",
       "      <td>70.139691</td>\n",
       "      <td>0.496211</td>\n",
       "      <td>13.243791</td>\n",
       "      <td>0.463097</td>\n",
       "      <td>0.039465</td>\n",
       "      <td>2.800626</td>\n",
       "      <td>1.399212</td>\n",
       "      <td>0.015673</td>\n",
       "      <td>16.097295</td>\n",
       "    </tr>\n",
       "    <tr>\n",
       "      <th>min</th>\n",
       "      <td>1.212700e+04</td>\n",
       "      <td>1.000000</td>\n",
       "      <td>0.000000</td>\n",
       "      <td>0.000000</td>\n",
       "      <td>1.000000</td>\n",
       "      <td>1.000000</td>\n",
       "      <td>1.000000</td>\n",
       "      <td>1.000000</td>\n",
       "      <td>-120.000000</td>\n",
       "      <td>-1.000000</td>\n",
       "      <td>-0.500000</td>\n",
       "      <td>0.000000</td>\n",
       "      <td>0.000000</td>\n",
       "      <td>-0.300000</td>\n",
       "      <td>-120.300000</td>\n",
       "    </tr>\n",
       "    <tr>\n",
       "      <th>25%</th>\n",
       "      <td>2.852056e+07</td>\n",
       "      <td>1.000000</td>\n",
       "      <td>1.000000</td>\n",
       "      <td>0.990000</td>\n",
       "      <td>1.000000</td>\n",
       "      <td>114.000000</td>\n",
       "      <td>112.000000</td>\n",
       "      <td>1.000000</td>\n",
       "      <td>6.500000</td>\n",
       "      <td>0.000000</td>\n",
       "      <td>0.500000</td>\n",
       "      <td>0.000000</td>\n",
       "      <td>0.000000</td>\n",
       "      <td>0.300000</td>\n",
       "      <td>8.750000</td>\n",
       "    </tr>\n",
       "    <tr>\n",
       "      <th>50%</th>\n",
       "      <td>5.673150e+07</td>\n",
       "      <td>2.000000</td>\n",
       "      <td>1.000000</td>\n",
       "      <td>1.610000</td>\n",
       "      <td>1.000000</td>\n",
       "      <td>162.000000</td>\n",
       "      <td>162.000000</td>\n",
       "      <td>1.000000</td>\n",
       "      <td>9.500000</td>\n",
       "      <td>0.000000</td>\n",
       "      <td>0.500000</td>\n",
       "      <td>1.350000</td>\n",
       "      <td>0.000000</td>\n",
       "      <td>0.300000</td>\n",
       "      <td>11.800000</td>\n",
       "    </tr>\n",
       "    <tr>\n",
       "      <th>75%</th>\n",
       "      <td>8.537452e+07</td>\n",
       "      <td>2.000000</td>\n",
       "      <td>2.000000</td>\n",
       "      <td>3.060000</td>\n",
       "      <td>1.000000</td>\n",
       "      <td>233.000000</td>\n",
       "      <td>233.000000</td>\n",
       "      <td>2.000000</td>\n",
       "      <td>14.500000</td>\n",
       "      <td>0.500000</td>\n",
       "      <td>0.500000</td>\n",
       "      <td>2.450000</td>\n",
       "      <td>0.000000</td>\n",
       "      <td>0.300000</td>\n",
       "      <td>17.800000</td>\n",
       "    </tr>\n",
       "    <tr>\n",
       "      <th>max</th>\n",
       "      <td>1.134863e+08</td>\n",
       "      <td>2.000000</td>\n",
       "      <td>6.000000</td>\n",
       "      <td>33.960000</td>\n",
       "      <td>99.000000</td>\n",
       "      <td>265.000000</td>\n",
       "      <td>265.000000</td>\n",
       "      <td>4.000000</td>\n",
       "      <td>999.990000</td>\n",
       "      <td>4.500000</td>\n",
       "      <td>0.500000</td>\n",
       "      <td>200.000000</td>\n",
       "      <td>19.100000</td>\n",
       "      <td>0.300000</td>\n",
       "      <td>1200.290000</td>\n",
       "    </tr>\n",
       "  </tbody>\n",
       "</table>\n",
       "</div>"
      ],
      "text/plain": [
       "         Unnamed: 0      VendorID  passenger_count  trip_distance  \\\n",
       "count  2.269900e+04  22699.000000     22699.000000   22699.000000   \n",
       "mean   5.675849e+07      1.556236         1.642319       2.913313   \n",
       "std    3.274493e+07      0.496838         1.285231       3.653171   \n",
       "min    1.212700e+04      1.000000         0.000000       0.000000   \n",
       "25%    2.852056e+07      1.000000         1.000000       0.990000   \n",
       "50%    5.673150e+07      2.000000         1.000000       1.610000   \n",
       "75%    8.537452e+07      2.000000         2.000000       3.060000   \n",
       "max    1.134863e+08      2.000000         6.000000      33.960000   \n",
       "\n",
       "         RatecodeID  PULocationID  DOLocationID  payment_type   fare_amount  \\\n",
       "count  22699.000000  22699.000000  22699.000000  22699.000000  22699.000000   \n",
       "mean       1.043394    162.412353    161.527997      1.336887     13.026629   \n",
       "std        0.708391     66.633373     70.139691      0.496211     13.243791   \n",
       "min        1.000000      1.000000      1.000000      1.000000   -120.000000   \n",
       "25%        1.000000    114.000000    112.000000      1.000000      6.500000   \n",
       "50%        1.000000    162.000000    162.000000      1.000000      9.500000   \n",
       "75%        1.000000    233.000000    233.000000      2.000000     14.500000   \n",
       "max       99.000000    265.000000    265.000000      4.000000    999.990000   \n",
       "\n",
       "              extra       mta_tax    tip_amount  tolls_amount  \\\n",
       "count  22699.000000  22699.000000  22699.000000  22699.000000   \n",
       "mean       0.333275      0.497445      1.835781      0.312542   \n",
       "std        0.463097      0.039465      2.800626      1.399212   \n",
       "min       -1.000000     -0.500000      0.000000      0.000000   \n",
       "25%        0.000000      0.500000      0.000000      0.000000   \n",
       "50%        0.000000      0.500000      1.350000      0.000000   \n",
       "75%        0.500000      0.500000      2.450000      0.000000   \n",
       "max        4.500000      0.500000    200.000000     19.100000   \n",
       "\n",
       "       improvement_surcharge  total_amount  \n",
       "count           22699.000000  22699.000000  \n",
       "mean                0.299551     16.310502  \n",
       "std                 0.015673     16.097295  \n",
       "min                -0.300000   -120.300000  \n",
       "25%                 0.300000      8.750000  \n",
       "50%                 0.300000     11.800000  \n",
       "75%                 0.300000     17.800000  \n",
       "max                 0.300000   1200.290000  "
      ]
     },
     "execution_count": 5,
     "metadata": {},
     "output_type": "execute_result"
    }
   ],
   "source": [
    "df.describe()"
   ]
  },
  {
   "cell_type": "markdown",
   "metadata": {
    "id": "psmn0VD0UWBk"
   },
   "source": [
    "And info. "
   ]
  },
  {
   "cell_type": "code",
   "execution_count": 6,
   "metadata": {
    "id": "Thlb8oiyUPwe"
   },
   "outputs": [
    {
     "name": "stdout",
     "output_type": "stream",
     "text": [
      "<class 'pandas.core.frame.DataFrame'>\n",
      "RangeIndex: 22699 entries, 0 to 22698\n",
      "Data columns (total 18 columns):\n",
      " #   Column                 Non-Null Count  Dtype  \n",
      "---  ------                 --------------  -----  \n",
      " 0   Unnamed: 0             22699 non-null  int64  \n",
      " 1   VendorID               22699 non-null  int64  \n",
      " 2   tpep_pickup_datetime   22699 non-null  object \n",
      " 3   tpep_dropoff_datetime  22699 non-null  object \n",
      " 4   passenger_count        22699 non-null  int64  \n",
      " 5   trip_distance          22699 non-null  float64\n",
      " 6   RatecodeID             22699 non-null  int64  \n",
      " 7   store_and_fwd_flag     22699 non-null  object \n",
      " 8   PULocationID           22699 non-null  int64  \n",
      " 9   DOLocationID           22699 non-null  int64  \n",
      " 10  payment_type           22699 non-null  int64  \n",
      " 11  fare_amount            22699 non-null  float64\n",
      " 12  extra                  22699 non-null  float64\n",
      " 13  mta_tax                22699 non-null  float64\n",
      " 14  tip_amount             22699 non-null  float64\n",
      " 15  tolls_amount           22699 non-null  float64\n",
      " 16  improvement_surcharge  22699 non-null  float64\n",
      " 17  total_amount           22699 non-null  float64\n",
      "dtypes: float64(8), int64(7), object(3)\n",
      "memory usage: 3.1+ MB\n"
     ]
    }
   ],
   "source": [
    "df.info()"
   ]
  },
  {
   "cell_type": "markdown",
   "metadata": {
    "id": "vCGi3U9nw4Er"
   },
   "source": [
    "### Task 2b. Assess whether dimensions and measures are correct"
   ]
  },
  {
   "cell_type": "markdown",
   "metadata": {
    "id": "aNBRa33TR_Is"
   },
   "source": [
    "On the data source page in Tableau, double check the data types for the applicable columns you selected on the previous step. Pay close attention to the dimensions and measures to assure they are correct. \n",
    "\n",
    "In Python, consider the data types of the columns. *Consider:* Do they make sense? "
   ]
  },
  {
   "cell_type": "markdown",
   "metadata": {
    "id": "ywUoKjQRyF9I"
   },
   "source": [
    "Review the link provided in the previous activity instructions to create the required Tableau visualization. "
   ]
  },
  {
   "cell_type": "markdown",
   "metadata": {
    "id": "sPlm615Ywifi"
   },
   "source": [
    "### Task 2c. Select visualization type(s)"
   ]
  },
  {
   "cell_type": "markdown",
   "metadata": {
    "id": "2YdC51QBSG2v"
   },
   "source": [
    "Select data visualization types that will help you understand and explain the data.\n",
    "\n",
    "Now that you know which data columns you’ll use, it is time to decide which data visualization makes the most sense for EDA of the TLC dataset. What type of data visualization(s) would be most helpful? \n",
    "\n",
    "* Line graph\n",
    "* Bar chart\n",
    "* Box plot\n",
    "* Histogram\n",
    "* Heat map\n",
    "* Scatter plot\n",
    "* A geographic map\n"
   ]
  },
  {
   "cell_type": "markdown",
   "metadata": {
    "id": "oYuUVTY-cD3y"
   },
   "source": [
    "Box plots of fare amounts and total amounts as well as trip distance should be created to get a better understanding of the underlying distribution. A Line graph can be used to visualize the average cost and distance of a cab ride over time. A Scatter plot can be used to assess the relationship between distance and cost while a bar chart can hlep visualize the raltionship between cost and categorical variables like passenger_count or payment_type. Lastly, a geographical map can help understand whether the cost is associated to the start or end point of the cab ride - unfortunately it seems like we do not possess the necessary data for this type visualization."
   ]
  },
  {
   "cell_type": "markdown",
   "metadata": {
    "id": "f0sHpfkhx8GM"
   },
   "source": [
    "<img src=\"images/Construct.png\" width=\"100\" height=\"100\" align=left>\n",
    "\n",
    "## PACE: Construct \n",
    "\n",
    "Consider the questions in your PACE Strategy Document to reflect on the Construct stage."
   ]
  },
  {
   "cell_type": "markdown",
   "metadata": {
    "id": "BYWkZ4i3wgv4"
   },
   "source": [
    "### Task 3. Data visualization\n",
    "\n",
    "You’ve assessed your data, and decided on which data variables are most applicable. It’s time to plot your visualization(s)!\n"
   ]
  },
  {
   "cell_type": "markdown",
   "metadata": {
    "id": "oMOs4lb1crry"
   },
   "source": [
    "### Boxplots"
   ]
  },
  {
   "cell_type": "markdown",
   "metadata": {},
   "source": [
    "Perform a check for outliers on relevant columns such as trip distance and trip duration. Remember, some of the best ways to identify the presence of outliers in data are box plots and histograms. \n",
    "\n",
    "**Note:** Remember to convert your date columns to datetime in order to derive total trip duration.  "
   ]
  },
  {
   "cell_type": "code",
   "execution_count": 7,
   "metadata": {
    "id": "9K6Alb7uc9my"
   },
   "outputs": [],
   "source": [
    "# Convert data columns to datetime\n",
    "df[\"tpep_pickup_datetime\"] = pd.to_datetime(df[\"tpep_pickup_datetime\"])\n",
    "df[\"tpep_dropoff_datetime\"] = pd.to_datetime(df[\"tpep_dropoff_datetime\"])\n",
    "df[\"trip_duration\"] = df[\"tpep_dropoff_datetime\"] - df[\"tpep_pickup_datetime\"]"
   ]
  },
  {
   "cell_type": "markdown",
   "metadata": {},
   "source": [
    "**trip distance**"
   ]
  },
  {
   "cell_type": "code",
   "execution_count": 8,
   "metadata": {},
   "outputs": [
    {
     "data": {
      "text/plain": [
       "<matplotlib.axes._subplots.AxesSubplot at 0x7dedf4e7e950>"
      ]
     },
     "execution_count": 8,
     "metadata": {},
     "output_type": "execute_result"
    },
    {
     "data": {
      "image/png": "[encoded data removed]",
      "text/plain": [
       "<Figure size 432x288 with 1 Axes>"
      ]
     },
     "metadata": {
      "needs_background": "light"
     },
     "output_type": "display_data"
    }
   ],
   "source": [
    "# Create box plot of trip_distance\n",
    "sns.boxplot(data=df, y=\"trip_distance\")"
   ]
  },
  {
   "cell_type": "code",
   "execution_count": 9,
   "metadata": {},
   "outputs": [
    {
     "data": {
      "text/plain": [
       "<matplotlib.axes._subplots.AxesSubplot at 0x7dedf4d80e90>"
      ]
     },
     "execution_count": 9,
     "metadata": {},
     "output_type": "execute_result"
    },
    {
     "data": {
      "image/png": "[encoded data removed]",
      "text/plain": [
       "<Figure size 432x288 with 1 Axes>"
      ]
     },
     "metadata": {
      "needs_background": "light"
     },
     "output_type": "display_data"
    }
   ],
   "source": [
    "# Create histogram of trip_distance\n",
    "sns.histplot(data=df, x=\"trip_distance\")"
   ]
  },
  {
   "cell_type": "markdown",
   "metadata": {},
   "source": [
    "**total amount**"
   ]
  },
  {
   "cell_type": "code",
   "execution_count": 10,
   "metadata": {},
   "outputs": [
    {
     "data": {
      "text/plain": [
       "<matplotlib.axes._subplots.AxesSubplot at 0x7dedf4888990>"
      ]
     },
     "execution_count": 10,
     "metadata": {},
     "output_type": "execute_result"
    },
    {
     "data": {
      "image/png": "[encoded data removed]",
      "text/plain": [
       "<Figure size 432x288 with 1 Axes>"
      ]
     },
     "metadata": {
      "needs_background": "light"
     },
     "output_type": "display_data"
    }
   ],
   "source": [
    "# Create box plot of total_amount\n",
    "sns.boxplot(data=df, y=\"total_amount\")"
   ]
  },
  {
   "cell_type": "code",
   "execution_count": 11,
   "metadata": {},
   "outputs": [
    {
     "data": {
      "text/plain": [
       "<matplotlib.axes._subplots.AxesSubplot at 0x7dedf4859590>"
      ]
     },
     "execution_count": 11,
     "metadata": {},
     "output_type": "execute_result"
    },
    {
     "data": {
      "image/png": "[encoded data removed]",
      "text/plain": [
       "<Figure size 432x288 with 1 Axes>"
      ]
     },
     "metadata": {
      "needs_background": "light"
     },
     "output_type": "display_data"
    }
   ],
   "source": [
    "# Create histogram of total_amount\n",
    "sns.histplot(data=df, x=\"total_amount\")"
   ]
  },
  {
   "cell_type": "markdown",
   "metadata": {},
   "source": [
    "**tip amount**"
   ]
  },
  {
   "cell_type": "code",
   "execution_count": 12,
   "metadata": {},
   "outputs": [
    {
     "data": {
      "text/plain": [
       "<matplotlib.axes._subplots.AxesSubplot at 0x7dedf113b750>"
      ]
     },
     "execution_count": 12,
     "metadata": {},
     "output_type": "execute_result"
    },
    {
     "data": {
      "image/png": "[encoded data removed]",
      "text/plain": [
       "<Figure size 432x288 with 1 Axes>"
      ]
     },
     "metadata": {
      "needs_background": "light"
     },
     "output_type": "display_data"
    }
   ],
   "source": [
    "# Create box plot of tip_amount\n",
    "sns.boxplot(data=df, y=\"tip_amount\")"
   ]
  },
  {
   "cell_type": "code",
   "execution_count": 13,
   "metadata": {},
   "outputs": [
    {
     "data": {
      "text/plain": [
       "<matplotlib.axes._subplots.AxesSubplot at 0x7dedf0f09f90>"
      ]
     },
     "execution_count": 13,
     "metadata": {},
     "output_type": "execute_result"
    },
    {
     "data": {
      "image/png": "[encoded data removed]",
      "text/plain": [
       "<Figure size 432x288 with 1 Axes>"
      ]
     },
     "metadata": {
      "needs_background": "light"
     },
     "output_type": "display_data"
    }
   ],
   "source": [
    "# Create histogram of tip_amount\n",
    "sns.histplot(data=df, x=\"tip_amount\")"
   ]
  },
  {
   "cell_type": "markdown",
   "metadata": {},
   "source": [
    "**tip_amount by vendor**"
   ]
  },
  {
   "cell_type": "code",
   "execution_count": 14,
   "metadata": {},
   "outputs": [
    {
     "data": {
      "text/plain": [
       "<matplotlib.axes._subplots.AxesSubplot at 0x7dedf5834e10>"
      ]
     },
     "execution_count": 14,
     "metadata": {},
     "output_type": "execute_result"
    },
    {
     "data": {
      "image/png": "[encoded data removed]",
      "text/plain": [
       "<Figure size 432x288 with 1 Axes>"
      ]
     },
     "metadata": {
      "needs_background": "light"
     },
     "output_type": "display_data"
    }
   ],
   "source": [
    "# Create histogram of tip_amount by vendor\n",
    "sns.histplot(data=df, x=\"tip_amount\", hue=\"VendorID\")"
   ]
  },
  {
   "cell_type": "markdown",
   "metadata": {},
   "source": [
    "Next, zoom in on the upper end of the range of tips to check whether vendor one gets noticeably more of the most generous tips."
   ]
  },
  {
   "cell_type": "code",
   "execution_count": 15,
   "metadata": {},
   "outputs": [
    {
     "data": {
      "text/plain": [
       "<matplotlib.axes._subplots.AxesSubplot at 0x7dedeeb08610>"
      ]
     },
     "execution_count": 15,
     "metadata": {},
     "output_type": "execute_result"
    },
    {
     "data": {
      "image/png": "[encoded data removed]",
      "text/plain": [
       "<Figure size 432x288 with 1 Axes>"
      ]
     },
     "metadata": {
      "needs_background": "light"
     },
     "output_type": "display_data"
    }
   ],
   "source": [
    "# Create histogram of tip_amount by vendor for tips > $10 \n",
    "sns.histplot(data=df.query(\"tip_amount > 10\"), x=\"tip_amount\", hue=\"VendorID\")"
   ]
  },
  {
   "cell_type": "markdown",
   "metadata": {},
   "source": [
    "**Mean tips by passenger count**\n",
    "\n",
    "Examine the unique values in the `passenger_count` column."
   ]
  },
  {
   "cell_type": "code",
   "execution_count": 16,
   "metadata": {},
   "outputs": [
    {
     "data": {
      "text/plain": [
       "1    16117\n",
       "2     3305\n",
       "5     1143\n",
       "3      953\n",
       "6      693\n",
       "4      455\n",
       "0       33\n",
       "Name: passenger_count, dtype: int64"
      ]
     },
     "execution_count": 16,
     "metadata": {},
     "output_type": "execute_result"
    }
   ],
   "source": [
    "df[\"passenger_count\"].value_counts()"
   ]
  },
  {
   "cell_type": "code",
   "execution_count": 17,
   "metadata": {},
   "outputs": [
    {
     "name": "stdout",
     "output_type": "stream",
     "text": [
      "   passenger_count  mean_tip\n",
      "0                0  2.135758\n",
      "1                1  1.848920\n",
      "2                2  1.856378\n",
      "3                3  1.716768\n",
      "4                4  1.530264\n",
      "5                5  1.873185\n",
      "6                6  1.720260\n"
     ]
    }
   ],
   "source": [
    "# Calculate mean tips by passenger_count\n",
    "mean_tips_df = (df\n",
    "                .groupby(\"passenger_count\")\n",
    "                .agg(mean_tip=(\"tip_amount\", \"mean\"))\n",
    "                .reset_index()\n",
    "               )\n",
    "print(mean_tips_df)"
   ]
  },
  {
   "cell_type": "code",
   "execution_count": 18,
   "metadata": {},
   "outputs": [
    {
     "data": {
      "text/plain": [
       "<matplotlib.axes._subplots.AxesSubplot at 0x7dededc99a90>"
      ]
     },
     "execution_count": 18,
     "metadata": {},
     "output_type": "execute_result"
    },
    {
     "data": {
      "image/png": "[encoded data removed]",
      "text/plain": [
       "<Figure size 432x288 with 1 Axes>"
      ]
     },
     "metadata": {
      "needs_background": "light"
     },
     "output_type": "display_data"
    }
   ],
   "source": [
    "# Create bar plot for mean tips by passenger count\n",
    "sns.barplot(data=mean_tips_df, x=\"passenger_count\", y=\"mean_tip\")"
   ]
  },
  {
   "cell_type": "markdown",
   "metadata": {},
   "source": [
    "**Create month and day columns**"
   ]
  },
  {
   "cell_type": "code",
   "execution_count": 19,
   "metadata": {},
   "outputs": [
    {
     "data": {
      "text/html": [
       "<div>\n",
       "<style scoped>\n",
       "    .dataframe tbody tr th:only-of-type {\n",
       "        vertical-align: middle;\n",
       "    }\n",
       "\n",
       "    .dataframe tbody tr th {\n",
       "        vertical-align: top;\n",
       "    }\n",
       "\n",
       "    .dataframe thead th {\n",
       "        text-align: right;\n",
       "    }\n",
       "</style>\n",
       "<table border=\"1\" class=\"dataframe\">\n",
       "  <thead>\n",
       "    <tr style=\"text-align: right;\">\n",
       "      <th></th>\n",
       "      <th>Unnamed: 0</th>\n",
       "      <th>VendorID</th>\n",
       "      <th>tpep_pickup_datetime</th>\n",
       "      <th>tpep_dropoff_datetime</th>\n",
       "      <th>passenger_count</th>\n",
       "      <th>trip_distance</th>\n",
       "      <th>RatecodeID</th>\n",
       "      <th>store_and_fwd_flag</th>\n",
       "      <th>PULocationID</th>\n",
       "      <th>DOLocationID</th>\n",
       "      <th>...</th>\n",
       "      <th>mta_tax</th>\n",
       "      <th>tip_amount</th>\n",
       "      <th>tolls_amount</th>\n",
       "      <th>improvement_surcharge</th>\n",
       "      <th>total_amount</th>\n",
       "      <th>trip_duration</th>\n",
       "      <th>month_start</th>\n",
       "      <th>month_end</th>\n",
       "      <th>day_start</th>\n",
       "      <th>day_end</th>\n",
       "    </tr>\n",
       "  </thead>\n",
       "  <tbody>\n",
       "    <tr>\n",
       "      <th>2828</th>\n",
       "      <td>46771386</td>\n",
       "      <td>2</td>\n",
       "      <td>2017-05-31 23:55:42</td>\n",
       "      <td>2017-06-01 00:07:25</td>\n",
       "      <td>1</td>\n",
       "      <td>2.04</td>\n",
       "      <td>1</td>\n",
       "      <td>N</td>\n",
       "      <td>50</td>\n",
       "      <td>186</td>\n",
       "      <td>...</td>\n",
       "      <td>0.5</td>\n",
       "      <td>2.26</td>\n",
       "      <td>0.0</td>\n",
       "      <td>0.3</td>\n",
       "      <td>13.56</td>\n",
       "      <td>0 days 00:11:43</td>\n",
       "      <td>05</td>\n",
       "      <td>06</td>\n",
       "      <td>31</td>\n",
       "      <td>01</td>\n",
       "    </tr>\n",
       "    <tr>\n",
       "      <th>5201</th>\n",
       "      <td>7159042</td>\n",
       "      <td>1</td>\n",
       "      <td>2017-01-31 23:51:00</td>\n",
       "      <td>2017-02-01 00:03:35</td>\n",
       "      <td>1</td>\n",
       "      <td>3.10</td>\n",
       "      <td>1</td>\n",
       "      <td>N</td>\n",
       "      <td>170</td>\n",
       "      <td>231</td>\n",
       "      <td>...</td>\n",
       "      <td>0.5</td>\n",
       "      <td>0.00</td>\n",
       "      <td>0.0</td>\n",
       "      <td>0.3</td>\n",
       "      <td>13.30</td>\n",
       "      <td>0 days 00:12:35</td>\n",
       "      <td>01</td>\n",
       "      <td>02</td>\n",
       "      <td>31</td>\n",
       "      <td>01</td>\n",
       "    </tr>\n",
       "    <tr>\n",
       "      <th>6436</th>\n",
       "      <td>92147428</td>\n",
       "      <td>2</td>\n",
       "      <td>2017-10-31 23:36:35</td>\n",
       "      <td>2017-11-01 00:02:47</td>\n",
       "      <td>1</td>\n",
       "      <td>2.13</td>\n",
       "      <td>1</td>\n",
       "      <td>N</td>\n",
       "      <td>249</td>\n",
       "      <td>79</td>\n",
       "      <td>...</td>\n",
       "      <td>0.5</td>\n",
       "      <td>3.36</td>\n",
       "      <td>0.0</td>\n",
       "      <td>0.3</td>\n",
       "      <td>20.16</td>\n",
       "      <td>0 days 00:26:12</td>\n",
       "      <td>10</td>\n",
       "      <td>11</td>\n",
       "      <td>31</td>\n",
       "      <td>01</td>\n",
       "    </tr>\n",
       "    <tr>\n",
       "      <th>7939</th>\n",
       "      <td>55106408</td>\n",
       "      <td>2</td>\n",
       "      <td>2017-06-30 20:36:00</td>\n",
       "      <td>2017-07-01 20:34:28</td>\n",
       "      <td>1</td>\n",
       "      <td>1.09</td>\n",
       "      <td>1</td>\n",
       "      <td>N</td>\n",
       "      <td>48</td>\n",
       "      <td>161</td>\n",
       "      <td>...</td>\n",
       "      <td>0.5</td>\n",
       "      <td>0.00</td>\n",
       "      <td>0.0</td>\n",
       "      <td>0.3</td>\n",
       "      <td>8.30</td>\n",
       "      <td>0 days 23:58:28</td>\n",
       "      <td>06</td>\n",
       "      <td>07</td>\n",
       "      <td>30</td>\n",
       "      <td>01</td>\n",
       "    </tr>\n",
       "    <tr>\n",
       "      <th>10210</th>\n",
       "      <td>55136691</td>\n",
       "      <td>2</td>\n",
       "      <td>2017-06-30 22:39:13</td>\n",
       "      <td>2017-07-01 22:33:12</td>\n",
       "      <td>1</td>\n",
       "      <td>1.55</td>\n",
       "      <td>1</td>\n",
       "      <td>N</td>\n",
       "      <td>68</td>\n",
       "      <td>164</td>\n",
       "      <td>...</td>\n",
       "      <td>0.5</td>\n",
       "      <td>0.00</td>\n",
       "      <td>0.0</td>\n",
       "      <td>0.3</td>\n",
       "      <td>11.30</td>\n",
       "      <td>0 days 23:53:59</td>\n",
       "      <td>06</td>\n",
       "      <td>07</td>\n",
       "      <td>30</td>\n",
       "      <td>01</td>\n",
       "    </tr>\n",
       "    <tr>\n",
       "      <th>14998</th>\n",
       "      <td>64882047</td>\n",
       "      <td>2</td>\n",
       "      <td>2017-07-31 14:04:25</td>\n",
       "      <td>2017-08-01 14:03:16</td>\n",
       "      <td>5</td>\n",
       "      <td>0.95</td>\n",
       "      <td>1</td>\n",
       "      <td>N</td>\n",
       "      <td>162</td>\n",
       "      <td>161</td>\n",
       "      <td>...</td>\n",
       "      <td>0.5</td>\n",
       "      <td>1.76</td>\n",
       "      <td>0.0</td>\n",
       "      <td>0.3</td>\n",
       "      <td>10.56</td>\n",
       "      <td>0 days 23:58:51</td>\n",
       "      <td>07</td>\n",
       "      <td>08</td>\n",
       "      <td>31</td>\n",
       "      <td>01</td>\n",
       "    </tr>\n",
       "  </tbody>\n",
       "</table>\n",
       "<p>6 rows × 23 columns</p>\n",
       "</div>"
      ],
      "text/plain": [
       "       Unnamed: 0  VendorID tpep_pickup_datetime tpep_dropoff_datetime  \\\n",
       "2828     46771386         2  2017-05-31 23:55:42   2017-06-01 00:07:25   \n",
       "5201      7159042         1  2017-01-31 23:51:00   2017-02-01 00:03:35   \n",
       "6436     92147428         2  2017-10-31 23:36:35   2017-11-01 00:02:47   \n",
       "7939     55106408         2  2017-06-30 20:36:00   2017-07-01 20:34:28   \n",
       "10210    55136691         2  2017-06-30 22:39:13   2017-07-01 22:33:12   \n",
       "14998    64882047         2  2017-07-31 14:04:25   2017-08-01 14:03:16   \n",
       "\n",
       "       passenger_count  trip_distance  RatecodeID store_and_fwd_flag  \\\n",
       "2828                 1           2.04           1                  N   \n",
       "5201                 1           3.10           1                  N   \n",
       "6436                 1           2.13           1                  N   \n",
       "7939                 1           1.09           1                  N   \n",
       "10210                1           1.55           1                  N   \n",
       "14998                5           0.95           1                  N   \n",
       "\n",
       "       PULocationID  DOLocationID  ...  mta_tax  tip_amount  tolls_amount  \\\n",
       "2828             50           186  ...      0.5        2.26           0.0   \n",
       "5201            170           231  ...      0.5        0.00           0.0   \n",
       "6436            249            79  ...      0.5        3.36           0.0   \n",
       "7939             48           161  ...      0.5        0.00           0.0   \n",
       "10210            68           164  ...      0.5        0.00           0.0   \n",
       "14998           162           161  ...      0.5        1.76           0.0   \n",
       "\n",
       "       improvement_surcharge  total_amount   trip_duration  month_start  \\\n",
       "2828                     0.3         13.56 0 days 00:11:43           05   \n",
       "5201                     0.3         13.30 0 days 00:12:35           01   \n",
       "6436                     0.3         20.16 0 days 00:26:12           10   \n",
       "7939                     0.3          8.30 0 days 23:58:28           06   \n",
       "10210                    0.3         11.30 0 days 23:53:59           06   \n",
       "14998                    0.3         10.56 0 days 23:58:51           07   \n",
       "\n",
       "       month_end day_start day_end  \n",
       "2828          06        31      01  \n",
       "5201          02        31      01  \n",
       "6436          11        31      01  \n",
       "7939          07        30      01  \n",
       "10210         07        30      01  \n",
       "14998         08        31      01  \n",
       "\n",
       "[6 rows x 23 columns]"
      ]
     },
     "execution_count": 19,
     "metadata": {},
     "output_type": "execute_result"
    }
   ],
   "source": [
    "# Create a month column\n",
    "df[\"month_start\"] = df[\"tpep_pickup_datetime\"].dt.strftime(\"%m\")\n",
    "df[\"month_end\"] = df[\"tpep_dropoff_datetime\"].dt.strftime(\"%m\")\n",
    "\n",
    "# Create a day column\n",
    "df[\"day_start\"] = df[\"tpep_pickup_datetime\"].dt.strftime(\"%d\")\n",
    "df[\"day_end\"] = df[\"tpep_dropoff_datetime\"].dt.strftime(\"%d\")\n",
    "\n",
    "df.head()\n",
    "# Trips can start late on one day and end early on the next...\n",
    "df[df[\"day_start\"] != df[\"day_end\"]]\n",
    "df[df[\"month_start\"] != df[\"month_end\"]]"
   ]
  },
  {
   "cell_type": "markdown",
   "metadata": {},
   "source": [
    "**Plot total ride count by month**\n",
    "\n",
    "Begin by calculating total ride count by month."
   ]
  },
  {
   "cell_type": "code",
   "execution_count": 20,
   "metadata": {},
   "outputs": [
    {
     "name": "stdout",
     "output_type": "stream",
     "text": [
      "   month_start    ID\n",
      "0           01  1997\n",
      "1           02  1769\n",
      "2           03  2049\n",
      "3           04  2019\n",
      "4           05  2013\n",
      "5           06  1964\n",
      "6           07  1697\n",
      "7           08  1724\n",
      "8           09  1734\n",
      "9           10  2027\n",
      "10          11  1843\n",
      "11          12  1863\n"
     ]
    }
   ],
   "source": [
    "# Get total number of rides for each month\n",
    "total_rides_by_month = (df[[\"month_start\", \"Unnamed: 0\"]]\n",
    "                        .groupby(\"month_start\")\n",
    "                        .nunique()\n",
    "                        .reset_index()\n",
    "                        .rename(columns={\"Unnamed: 0\": \"ID\"})\n",
    "                       )\n",
    "print(total_rides_by_month)"
   ]
  },
  {
   "cell_type": "markdown",
   "metadata": {},
   "source": [
    "Reorder the results to put the months in calendar order."
   ]
  },
  {
   "cell_type": "code",
   "execution_count": 21,
   "metadata": {},
   "outputs": [],
   "source": [
    "# Reorder the monthly ride list so months go in order\n",
    "total_rides_by_month = total_rides_by_month.sort_values(\"month_start\")"
   ]
  },
  {
   "cell_type": "code",
   "execution_count": 22,
   "metadata": {},
   "outputs": [
    {
     "data": {
      "text/plain": [
       "Int64Index([0, 1, 2, 3, 4, 5, 6, 7, 8, 9, 10, 11], dtype='int64')"
      ]
     },
     "execution_count": 22,
     "metadata": {},
     "output_type": "execute_result"
    }
   ],
   "source": [
    "# Show the index\n",
    "total_rides_by_month.index"
   ]
  },
  {
   "cell_type": "code",
   "execution_count": 23,
   "metadata": {},
   "outputs": [
    {
     "data": {
      "text/plain": [
       "<matplotlib.axes._subplots.AxesSubplot at 0x7deded65b850>"
      ]
     },
     "execution_count": 23,
     "metadata": {},
     "output_type": "execute_result"
    },
    {
     "data": {
      "image/png": "[encoded data removed]",
      "text/plain": [
       "<Figure size 432x288 with 1 Axes>"
      ]
     },
     "metadata": {
      "needs_background": "light"
     },
     "output_type": "display_data"
    }
   ],
   "source": [
    "# Create a bar plot of total rides per month\n",
    "sns.barplot(data=total_rides_by_month, x=\"month_start\", y=\"ID\")"
   ]
  },
  {
   "cell_type": "markdown",
   "metadata": {},
   "source": [
    "**Plot total ride count by day**\n",
    "\n",
    "Repeat the above process, but now calculate the total rides by day of the week."
   ]
  },
  {
   "cell_type": "code",
   "execution_count": 24,
   "metadata": {},
   "outputs": [
    {
     "name": "stdout",
     "output_type": "stream",
     "text": [
      "   day_start   ID\n",
      "0         01  721\n",
      "1         02  739\n",
      "2         03  810\n",
      "3         04  703\n",
      "4         05  746\n",
      "5         06  718\n",
      "6         07  788\n",
      "7         08  752\n",
      "8         09  714\n",
      "9         10  760\n",
      "10        11  788\n",
      "11        12  791\n",
      "12        13  782\n",
      "13        14  742\n",
      "14        15  761\n",
      "15        16  759\n",
      "16        17  795\n",
      "17        18  806\n",
      "18        19  784\n",
      "19        20  727\n",
      "20        21  788\n",
      "21        22  735\n",
      "22        23  663\n",
      "23        24  703\n",
      "24        25  708\n",
      "25        26  695\n",
      "26        27  732\n",
      "27        28  763\n",
      "28        29  649\n",
      "29        30  669\n",
      "30        31  408\n"
     ]
    }
   ],
   "source": [
    "# Repeat the above process, this time for rides by day\n",
    "total_rides_by_day = (df[[\"day_start\", \"Unnamed: 0\"]]\n",
    "                      .groupby(\"day_start\")\n",
    "                      .nunique()\n",
    "                      .reset_index()\n",
    "                      .rename(columns={\"Unnamed: 0\": \"ID\"})\n",
    "                     )\n",
    "print(total_rides_by_day)"
   ]
  },
  {
   "cell_type": "code",
   "execution_count": 25,
   "metadata": {},
   "outputs": [
    {
     "data": {
      "text/plain": [
       "<matplotlib.axes._subplots.AxesSubplot at 0x7deded5a5a10>"
      ]
     },
     "execution_count": 25,
     "metadata": {},
     "output_type": "execute_result"
    },
    {
     "data": {
      "image/png": "[encoded data removed]",
      "text/plain": [
       "<Figure size 432x288 with 1 Axes>"
      ]
     },
     "metadata": {
      "needs_background": "light"
     },
     "output_type": "display_data"
    }
   ],
   "source": [
    "# Create bar plot for ride count by day\n",
    "sns.barplot(data=total_rides_by_day, x=\"day_start\", y=\"ID\")"
   ]
  },
  {
   "cell_type": "markdown",
   "metadata": {},
   "source": [
    "**Plot total revenue by day of the week**\n",
    "\n",
    "Repeat the above process, but now calculate the total revenue by day of the week."
   ]
  },
  {
   "cell_type": "code",
   "execution_count": 26,
   "metadata": {},
   "outputs": [
    {
     "name": "stdout",
     "output_type": "stream",
     "text": [
      "   day_start  total_revenue\n",
      "0         01       11992.11\n",
      "1         02       11643.23\n",
      "2         03       13740.04\n",
      "3         04       11783.16\n",
      "4         05       11396.33\n",
      "5         06       13485.84\n",
      "6         07       12948.46\n",
      "7         08       11888.14\n",
      "8         09       11354.08\n",
      "9         10       11685.02\n",
      "10        11       12268.22\n",
      "11        12       12826.97\n",
      "12        13       13248.80\n",
      "13        14       11515.69\n",
      "14        15       12942.67\n",
      "15        16       12919.77\n",
      "16        17       14220.04\n",
      "17        18       13309.63\n",
      "18        19       13745.93\n",
      "19        20       12136.28\n",
      "20        21       12023.87\n",
      "21        22       11251.19\n",
      "22        23       10555.12\n",
      "23        24       10978.55\n",
      "24        25       11675.66\n",
      "25        26       11509.39\n",
      "26        27       12017.46\n",
      "27        28       12199.07\n",
      "28        29       10164.92\n",
      "29        30       10569.88\n",
      "30        31        6236.57\n"
     ]
    }
   ],
   "source": [
    "# Repeat the process, this time for total revenue by day\n",
    "total_revenue_by_day = (df\n",
    "                        .groupby(\"day_start\")\n",
    "                        .agg(total_revenue=(\"total_amount\", \"sum\"))\n",
    "                        .reset_index()\n",
    "                       )\n",
    "print(total_revenue_by_day)"
   ]
  },
  {
   "cell_type": "code",
   "execution_count": 27,
   "metadata": {},
   "outputs": [
    {
     "data": {
      "text/plain": [
       "<matplotlib.axes._subplots.AxesSubplot at 0x7dedf000cfd0>"
      ]
     },
     "execution_count": 27,
     "metadata": {},
     "output_type": "execute_result"
    },
    {
     "data": {
      "image/png": "[encoded data removed]",
      "text/plain": [
       "<Figure size 432x288 with 1 Axes>"
      ]
     },
     "metadata": {
      "needs_background": "light"
     },
     "output_type": "display_data"
    }
   ],
   "source": [
    "# Create bar plot of total revenue by day\n",
    "sns.barplot(data=total_revenue_by_day, x=\"day_start\", y=\"total_revenue\")"
   ]
  },
  {
   "cell_type": "markdown",
   "metadata": {},
   "source": [
    "**Plot total revenue by month**"
   ]
  },
  {
   "cell_type": "code",
   "execution_count": 28,
   "metadata": {},
   "outputs": [
    {
     "name": "stdout",
     "output_type": "stream",
     "text": [
      "   month_start  total_revenue\n",
      "0           01       31735.25\n",
      "1           02       28937.89\n",
      "2           03       33085.89\n",
      "3           04       32012.54\n",
      "4           05       33828.58\n",
      "5           06       32920.52\n",
      "6           07       26617.64\n",
      "7           08       27759.56\n",
      "8           09       28206.38\n",
      "9           10       33065.83\n",
      "10          11       30800.44\n",
      "11          12       31261.57\n"
     ]
    }
   ],
   "source": [
    "# Repeat the process, this time for total revenue by month\n",
    "total_revenue_by_month = (df\n",
    "                          .groupby(\"month_start\")\n",
    "                          .agg(total_revenue=(\"total_amount\", \"sum\"))\n",
    "                          .reset_index()\n",
    "                         )\n",
    "print(total_revenue_by_month)"
   ]
  },
  {
   "cell_type": "code",
   "execution_count": 29,
   "metadata": {},
   "outputs": [
    {
     "data": {
      "text/plain": [
       "<matplotlib.axes._subplots.AxesSubplot at 0x7deded2b9490>"
      ]
     },
     "execution_count": 29,
     "metadata": {},
     "output_type": "execute_result"
    },
    {
     "data": {
      "image/png": "[encoded data removed]",
      "text/plain": [
       "<Figure size 432x288 with 1 Axes>"
      ]
     },
     "metadata": {
      "needs_background": "light"
     },
     "output_type": "display_data"
    }
   ],
   "source": [
    "# Create a bar plot of total revenue by month\n",
    "sns.barplot(data=total_revenue_by_month, x=\"month_start\", y=\"total_revenue\")"
   ]
  },
  {
   "cell_type": "markdown",
   "metadata": {
    "id": "5Lx-vikocvoy"
   },
   "source": [
    "#### Scatter plot"
   ]
  },
  {
   "cell_type": "markdown",
   "metadata": {},
   "source": [
    "You can create a scatterplot in Tableau Public, which can be easier to manipulate and present. If you'd like step by step instructions, you can review the following link. Those instructions create a scatterplot showing the relationship between total_amount and trip_distance. Consider adding the Tableau visualization to your executive summary, and adding key insights from your findings on those two variables."
   ]
  },
  {
   "cell_type": "markdown",
   "metadata": {
    "id": "8TQjML4-0_35"
   },
   "source": [
    "[Tableau visualization guidelines](https://docs.google.com/document/d/1pcfUlttD2Y_a9A4VrKPzikZWCAfFLsBAhuKuomjcUjA/template/preview)"
   ]
  },
  {
   "cell_type": "markdown",
   "metadata": {},
   "source": [
    "**Plot mean trip distance by drop-off location**"
   ]
  },
  {
   "cell_type": "code",
   "execution_count": 30,
   "metadata": {},
   "outputs": [
    {
     "data": {
      "text/plain": [
       "265"
      ]
     },
     "execution_count": 30,
     "metadata": {},
     "output_type": "execute_result"
    }
   ],
   "source": [
    "# Get number of unique drop-off location IDs\n",
    "df[\"DOLocationID\"].nunique()\n",
    "\n",
    "df[\"DOLocationID\"].max()"
   ]
  },
  {
   "cell_type": "code",
   "execution_count": 31,
   "metadata": {},
   "outputs": [
    {
     "name": "stdout",
     "output_type": "stream",
     "text": [
      "     DOLocationID  mean_trip_distance\n",
      "164           207            1.200000\n",
      "154           193            1.390556\n",
      "192           237            1.555494\n",
      "189           234            1.727806\n",
      "109           137            1.818852\n",
      "..            ...                 ...\n",
      "40             51           17.310000\n",
      "5              11           17.945000\n",
      "167           210           20.500000\n",
      "21             29           21.650000\n",
      "16             23           24.275000\n",
      "\n",
      "[216 rows x 2 columns]\n"
     ]
    }
   ],
   "source": [
    "# Calculate the mean trip distance for each drop-off location\n",
    "mean_trip_distance_DO = (df\n",
    "                        .groupby(\"DOLocationID\")\n",
    "                         .agg(mean_trip_distance=(\"trip_distance\", \"mean\"))\n",
    "                         .reset_index()\n",
    "                        )\n",
    "\n",
    "#print(mean_trip_distance_DO)\n",
    "# Sort the results in descending order by mean trip distance\n",
    "mean_trip_distance_DO = mean_trip_distance_DO.sort_values(\"mean_trip_distance\", ascending=True)\n",
    "\n",
    "print(mean_trip_distance_DO)\n"
   ]
  },
  {
   "cell_type": "code",
   "execution_count": 32,
   "metadata": {},
   "outputs": [
    {
     "data": {
      "image/png": "[encoded data removed]",
      "text/plain": [
       "<Figure size 1080x720 with 1 Axes>"
      ]
     },
     "metadata": {
      "needs_background": "light"
     },
     "output_type": "display_data"
    }
   ],
   "source": [
    "# Create a bar plot of mean trip distances by drop-off location in ascending order by distance\n",
    "plt.figure(figsize=(15, 10))\n",
    "bar_plot = sns.barplot(data=mean_trip_distance_DO, x=\"DOLocationID\", y=\"mean_trip_distance\", order=mean_trip_distance_DO[\"DOLocationID\"])\n",
    "plt.xticks(rotation=90)\n",
    "plt.show()"
   ]
  },
  {
   "cell_type": "markdown",
   "metadata": {},
   "source": [
    "## BONUS CONTENT\n",
    "\n",
    "To confirm your conclusion, consider the following experiment:\n",
    "1. Create a sample of coordinates from a normal distribution&mdash;in this case 1,500 pairs of points from a normal distribution with a mean of 10 and a standard deviation of 5\n",
    "2. Calculate the distance between each pair of coordinates \n",
    "3. Group the coordinates by endpoint and calculate the mean distance between that endpoint and all other points it was paired with\n",
    "4. Plot the mean distance for each unique endpoint"
   ]
  },
  {
   "cell_type": "code",
   "execution_count": 33,
   "metadata": {},
   "outputs": [
    {
     "data": {
      "image/png": "[encoded data removed]",
      "text/plain": [
       "<Figure size 1008x432 with 1 Axes>"
      ]
     },
     "metadata": {
      "needs_background": "light"
     },
     "output_type": "display_data"
    }
   ],
   "source": [
    "#BONUS CONTENT\n",
    "np.random.seed(1234)\n",
    "#1. Generate random points on a 2D plane from a normal distribution\n",
    "test = np.round(np.random.normal(10, 5, (3000, 2)), 1)\n",
    "midway = int(len(test)/2)  # Calculate midpoint of the array of coordinates\n",
    "start = test[:midway]      # Isolate first half of array (\"pick-up locations\")\n",
    "end = test[midway:]        # Isolate second half of array (\"drop-off locations\")\n",
    "\n",
    "# 2. Calculate Euclidean distances between points in first half and second half of array\n",
    "distance = (start - end)**2\n",
    "distance = distance.sum(axis=-1)\n",
    "distance = np.sqrt(distance)\n",
    "\n",
    "# 3. Group the coordinates by \"drop-off location\", compute mean distance\n",
    "test_df = pd.DataFrame({'start': [tuple(x) for x in start.tolist()],\n",
    "                   'end': [tuple(x) for x in end.tolist()],\n",
    "                   'distance': distance})\n",
    "data = test_df[['end', 'distance']].groupby('end').mean()\n",
    "data = data.sort_values(by='distance')\n",
    "\n",
    "# 4. Plot the mean distance between each endpoint (\"drop-off location\") and all points it connected to\n",
    "plt.figure(figsize=(14,6))\n",
    "ax = sns.barplot(x=data.index,\n",
    "                 y=data['distance'],\n",
    "                 order=data.index)\n",
    "ax.set_xticklabels([])\n",
    "ax.set_xticks([])\n",
    "ax.set_xlabel('Endpoint')\n",
    "ax.set_ylabel('Mean distance to all other points')\n",
    "ax.set_title('Mean distance between points taken randomly from normal distribution')\n",
    "plt.show()"
   ]
  },
  {
   "cell_type": "markdown",
   "metadata": {},
   "source": [
    "**Histogram of rides by drop-off location**"
   ]
  },
  {
   "cell_type": "markdown",
   "metadata": {},
   "source": [
    "First, check to whether the drop-off locations IDs are consecutively numbered. For instance, does it go 1, 2, 3, 4..., or are some numbers missing (e.g., 1, 3, 4...). If numbers aren't all consecutive, the histogram will look like some locations have very few or no rides when in reality there's no bar because there's no location. "
   ]
  },
  {
   "cell_type": "code",
   "execution_count": 34,
   "metadata": {},
   "outputs": [
    {
     "data": {
      "text/plain": [
       "49"
      ]
     },
     "execution_count": 34,
     "metadata": {},
     "output_type": "execute_result"
    }
   ],
   "source": [
    "# Check if all drop-off locations are consecutively numbered\n",
    "df['DOLocationID'].max() - len(set(df['DOLocationID'])) "
   ]
  },
  {
   "cell_type": "markdown",
   "metadata": {},
   "source": [
    "To eliminate the spaces in the historgram that these missing numbers would create, sort the unique drop-off location values, then convert them to strings. This will make the histplot function display all bars directly next to each other. "
   ]
  },
  {
   "cell_type": "code",
   "execution_count": 35,
   "metadata": {},
   "outputs": [
    {
     "data": {
      "image/png": "[encoded data removed]",
      "text/plain": [
       "<Figure size 1152x288 with 1 Axes>"
      ]
     },
     "metadata": {
      "needs_background": "light"
     },
     "output_type": "display_data"
    }
   ],
   "source": [
    "plt.figure(figsize=(16,4))\n",
    "# DOLocationID column is numeric, so sort in ascending order\n",
    "sorted_dropoffs = df['DOLocationID'].sort_values()\n",
    "\n",
    "# Convert to string\n",
    "sorted_dropoffs = sorted_dropoffs.astype('str')\n",
    "\n",
    "# Plot\n",
    "sns.histplot(sorted_dropoffs, bins=range(0, df['DOLocationID'].max()+1, 1))\n",
    "plt.xticks([])\n",
    "plt.xlabel('Drop-off locations')\n",
    "plt.title('Histogram of rides by drop-off location', fontsize=16)\n",
    "plt.show()"
   ]
  },
  {
   "cell_type": "markdown",
   "metadata": {
    "id": "NsvBtco1x8GN"
   },
   "source": [
    "<img src=\"images/Execute.png\" width=\"100\" height=\"100\" align=left>\n",
    "\n",
    "## PACE: Execute \n",
    "\n",
    "Consider the questions in your PACE Strategy Document to reflect on the Execute stage."
   ]
  },
  {
   "cell_type": "markdown",
   "metadata": {
    "id": "csHAfM-RSO7l"
   },
   "source": [
    "### Task 4a. Results and evaluation\n",
    "\n",
    "Having built visualizations in Tableau and in Python, what have you learned about the dataset? What other questions have your visualizations uncovered that you should pursue? \n",
    "\n",
    "***Pro tip:*** Put yourself in your client's perspective, what would they want to know? \n",
    "\n",
    "Use the following code fields to pursue any additional EDA based on the visualizations you've already plotted. Also use the space to make sure your visualizations are clean, easily understandable, and accessible. \n",
    "\n",
    "***Ask yourself:*** Did you consider color, contrast, emphasis, and labeling?\n",
    "\n"
   ]
  },
  {
   "cell_type": "markdown",
   "metadata": {
    "id": "pOp0vmf1zOHO"
   },
   "source": [
    "\n",
    "I have learned that the most trip distances are below 5 miles, but there are outliers all the way out to 35 miles. There are no missing values. \n",
    "My other questions are: why are there several trips of 0 miles?\n",
    "\n",
    "My client would likely want to know that the data includes dropoff and pickup times that we can use to derive a trip duration for each observation. This would likely be something that will help the client with their model. "
   ]
  },
  {
   "cell_type": "code",
   "execution_count": 36,
   "metadata": {
    "id": "puYiPmvGdTJH"
   },
   "outputs": [],
   "source": [
    "df['trip_duration'] = (df['tpep_dropoff_datetime']-df['tpep_pickup_datetime'])"
   ]
  },
  {
   "cell_type": "code",
   "execution_count": 37,
   "metadata": {
    "id": "iEv7pHw-dTRP"
   },
   "outputs": [
    {
     "data": {
      "text/html": [
       "<div>\n",
       "<style scoped>\n",
       "    .dataframe tbody tr th:only-of-type {\n",
       "        vertical-align: middle;\n",
       "    }\n",
       "\n",
       "    .dataframe tbody tr th {\n",
       "        vertical-align: top;\n",
       "    }\n",
       "\n",
       "    .dataframe thead th {\n",
       "        text-align: right;\n",
       "    }\n",
       "</style>\n",
       "<table border=\"1\" class=\"dataframe\">\n",
       "  <thead>\n",
       "    <tr style=\"text-align: right;\">\n",
       "      <th></th>\n",
       "      <th>Unnamed: 0</th>\n",
       "      <th>VendorID</th>\n",
       "      <th>tpep_pickup_datetime</th>\n",
       "      <th>tpep_dropoff_datetime</th>\n",
       "      <th>passenger_count</th>\n",
       "      <th>trip_distance</th>\n",
       "      <th>RatecodeID</th>\n",
       "      <th>store_and_fwd_flag</th>\n",
       "      <th>PULocationID</th>\n",
       "      <th>DOLocationID</th>\n",
       "      <th>...</th>\n",
       "      <th>mta_tax</th>\n",
       "      <th>tip_amount</th>\n",
       "      <th>tolls_amount</th>\n",
       "      <th>improvement_surcharge</th>\n",
       "      <th>total_amount</th>\n",
       "      <th>trip_duration</th>\n",
       "      <th>month_start</th>\n",
       "      <th>month_end</th>\n",
       "      <th>day_start</th>\n",
       "      <th>day_end</th>\n",
       "    </tr>\n",
       "  </thead>\n",
       "  <tbody>\n",
       "    <tr>\n",
       "      <th>0</th>\n",
       "      <td>24870114</td>\n",
       "      <td>2</td>\n",
       "      <td>2017-03-25 08:55:43</td>\n",
       "      <td>2017-03-25 09:09:47</td>\n",
       "      <td>6</td>\n",
       "      <td>3.34</td>\n",
       "      <td>1</td>\n",
       "      <td>N</td>\n",
       "      <td>100</td>\n",
       "      <td>231</td>\n",
       "      <td>...</td>\n",
       "      <td>0.5</td>\n",
       "      <td>2.76</td>\n",
       "      <td>0.0</td>\n",
       "      <td>0.3</td>\n",
       "      <td>16.56</td>\n",
       "      <td>0 days 00:14:04</td>\n",
       "      <td>03</td>\n",
       "      <td>03</td>\n",
       "      <td>25</td>\n",
       "      <td>25</td>\n",
       "    </tr>\n",
       "    <tr>\n",
       "      <th>1</th>\n",
       "      <td>35634249</td>\n",
       "      <td>1</td>\n",
       "      <td>2017-04-11 14:53:28</td>\n",
       "      <td>2017-04-11 15:19:58</td>\n",
       "      <td>1</td>\n",
       "      <td>1.80</td>\n",
       "      <td>1</td>\n",
       "      <td>N</td>\n",
       "      <td>186</td>\n",
       "      <td>43</td>\n",
       "      <td>...</td>\n",
       "      <td>0.5</td>\n",
       "      <td>4.00</td>\n",
       "      <td>0.0</td>\n",
       "      <td>0.3</td>\n",
       "      <td>20.80</td>\n",
       "      <td>0 days 00:26:30</td>\n",
       "      <td>04</td>\n",
       "      <td>04</td>\n",
       "      <td>11</td>\n",
       "      <td>11</td>\n",
       "    </tr>\n",
       "    <tr>\n",
       "      <th>2</th>\n",
       "      <td>106203690</td>\n",
       "      <td>1</td>\n",
       "      <td>2017-12-15 07:26:56</td>\n",
       "      <td>2017-12-15 07:34:08</td>\n",
       "      <td>1</td>\n",
       "      <td>1.00</td>\n",
       "      <td>1</td>\n",
       "      <td>N</td>\n",
       "      <td>262</td>\n",
       "      <td>236</td>\n",
       "      <td>...</td>\n",
       "      <td>0.5</td>\n",
       "      <td>1.45</td>\n",
       "      <td>0.0</td>\n",
       "      <td>0.3</td>\n",
       "      <td>8.75</td>\n",
       "      <td>0 days 00:07:12</td>\n",
       "      <td>12</td>\n",
       "      <td>12</td>\n",
       "      <td>15</td>\n",
       "      <td>15</td>\n",
       "    </tr>\n",
       "    <tr>\n",
       "      <th>3</th>\n",
       "      <td>38942136</td>\n",
       "      <td>2</td>\n",
       "      <td>2017-05-07 13:17:59</td>\n",
       "      <td>2017-05-07 13:48:14</td>\n",
       "      <td>1</td>\n",
       "      <td>3.70</td>\n",
       "      <td>1</td>\n",
       "      <td>N</td>\n",
       "      <td>188</td>\n",
       "      <td>97</td>\n",
       "      <td>...</td>\n",
       "      <td>0.5</td>\n",
       "      <td>6.39</td>\n",
       "      <td>0.0</td>\n",
       "      <td>0.3</td>\n",
       "      <td>27.69</td>\n",
       "      <td>0 days 00:30:15</td>\n",
       "      <td>05</td>\n",
       "      <td>05</td>\n",
       "      <td>07</td>\n",
       "      <td>07</td>\n",
       "    </tr>\n",
       "    <tr>\n",
       "      <th>4</th>\n",
       "      <td>30841670</td>\n",
       "      <td>2</td>\n",
       "      <td>2017-04-15 23:32:20</td>\n",
       "      <td>2017-04-15 23:49:03</td>\n",
       "      <td>1</td>\n",
       "      <td>4.37</td>\n",
       "      <td>1</td>\n",
       "      <td>N</td>\n",
       "      <td>4</td>\n",
       "      <td>112</td>\n",
       "      <td>...</td>\n",
       "      <td>0.5</td>\n",
       "      <td>0.00</td>\n",
       "      <td>0.0</td>\n",
       "      <td>0.3</td>\n",
       "      <td>17.80</td>\n",
       "      <td>0 days 00:16:43</td>\n",
       "      <td>04</td>\n",
       "      <td>04</td>\n",
       "      <td>15</td>\n",
       "      <td>15</td>\n",
       "    </tr>\n",
       "    <tr>\n",
       "      <th>5</th>\n",
       "      <td>23345809</td>\n",
       "      <td>2</td>\n",
       "      <td>2017-03-25 20:34:11</td>\n",
       "      <td>2017-03-25 20:42:11</td>\n",
       "      <td>6</td>\n",
       "      <td>2.30</td>\n",
       "      <td>1</td>\n",
       "      <td>N</td>\n",
       "      <td>161</td>\n",
       "      <td>236</td>\n",
       "      <td>...</td>\n",
       "      <td>0.5</td>\n",
       "      <td>2.06</td>\n",
       "      <td>0.0</td>\n",
       "      <td>0.3</td>\n",
       "      <td>12.36</td>\n",
       "      <td>0 days 00:08:00</td>\n",
       "      <td>03</td>\n",
       "      <td>03</td>\n",
       "      <td>25</td>\n",
       "      <td>25</td>\n",
       "    </tr>\n",
       "    <tr>\n",
       "      <th>6</th>\n",
       "      <td>37660487</td>\n",
       "      <td>2</td>\n",
       "      <td>2017-05-03 19:04:09</td>\n",
       "      <td>2017-05-03 20:03:47</td>\n",
       "      <td>1</td>\n",
       "      <td>12.83</td>\n",
       "      <td>1</td>\n",
       "      <td>N</td>\n",
       "      <td>79</td>\n",
       "      <td>241</td>\n",
       "      <td>...</td>\n",
       "      <td>0.5</td>\n",
       "      <td>9.86</td>\n",
       "      <td>0.0</td>\n",
       "      <td>0.3</td>\n",
       "      <td>59.16</td>\n",
       "      <td>0 days 00:59:38</td>\n",
       "      <td>05</td>\n",
       "      <td>05</td>\n",
       "      <td>03</td>\n",
       "      <td>03</td>\n",
       "    </tr>\n",
       "    <tr>\n",
       "      <th>7</th>\n",
       "      <td>69059411</td>\n",
       "      <td>2</td>\n",
       "      <td>2017-08-15 17:41:06</td>\n",
       "      <td>2017-08-15 18:03:05</td>\n",
       "      <td>1</td>\n",
       "      <td>2.98</td>\n",
       "      <td>1</td>\n",
       "      <td>N</td>\n",
       "      <td>237</td>\n",
       "      <td>114</td>\n",
       "      <td>...</td>\n",
       "      <td>0.5</td>\n",
       "      <td>1.78</td>\n",
       "      <td>0.0</td>\n",
       "      <td>0.3</td>\n",
       "      <td>19.58</td>\n",
       "      <td>0 days 00:21:59</td>\n",
       "      <td>08</td>\n",
       "      <td>08</td>\n",
       "      <td>15</td>\n",
       "      <td>15</td>\n",
       "    </tr>\n",
       "    <tr>\n",
       "      <th>8</th>\n",
       "      <td>8433159</td>\n",
       "      <td>2</td>\n",
       "      <td>2017-02-04 16:17:07</td>\n",
       "      <td>2017-02-04 16:29:14</td>\n",
       "      <td>1</td>\n",
       "      <td>1.20</td>\n",
       "      <td>1</td>\n",
       "      <td>N</td>\n",
       "      <td>234</td>\n",
       "      <td>249</td>\n",
       "      <td>...</td>\n",
       "      <td>0.5</td>\n",
       "      <td>0.00</td>\n",
       "      <td>0.0</td>\n",
       "      <td>0.3</td>\n",
       "      <td>9.80</td>\n",
       "      <td>0 days 00:12:07</td>\n",
       "      <td>02</td>\n",
       "      <td>02</td>\n",
       "      <td>04</td>\n",
       "      <td>04</td>\n",
       "    </tr>\n",
       "    <tr>\n",
       "      <th>9</th>\n",
       "      <td>95294817</td>\n",
       "      <td>1</td>\n",
       "      <td>2017-11-10 15:20:29</td>\n",
       "      <td>2017-11-10 15:40:55</td>\n",
       "      <td>1</td>\n",
       "      <td>1.60</td>\n",
       "      <td>1</td>\n",
       "      <td>N</td>\n",
       "      <td>239</td>\n",
       "      <td>237</td>\n",
       "      <td>...</td>\n",
       "      <td>0.5</td>\n",
       "      <td>2.75</td>\n",
       "      <td>0.0</td>\n",
       "      <td>0.3</td>\n",
       "      <td>16.55</td>\n",
       "      <td>0 days 00:20:26</td>\n",
       "      <td>11</td>\n",
       "      <td>11</td>\n",
       "      <td>10</td>\n",
       "      <td>10</td>\n",
       "    </tr>\n",
       "  </tbody>\n",
       "</table>\n",
       "<p>10 rows × 23 columns</p>\n",
       "</div>"
      ],
      "text/plain": [
       "   Unnamed: 0  VendorID tpep_pickup_datetime tpep_dropoff_datetime  \\\n",
       "0    24870114         2  2017-03-25 08:55:43   2017-03-25 09:09:47   \n",
       "1    35634249         1  2017-04-11 14:53:28   2017-04-11 15:19:58   \n",
       "2   106203690         1  2017-12-15 07:26:56   2017-12-15 07:34:08   \n",
       "3    38942136         2  2017-05-07 13:17:59   2017-05-07 13:48:14   \n",
       "4    30841670         2  2017-04-15 23:32:20   2017-04-15 23:49:03   \n",
       "5    23345809         2  2017-03-25 20:34:11   2017-03-25 20:42:11   \n",
       "6    37660487         2  2017-05-03 19:04:09   2017-05-03 20:03:47   \n",
       "7    69059411         2  2017-08-15 17:41:06   2017-08-15 18:03:05   \n",
       "8     8433159         2  2017-02-04 16:17:07   2017-02-04 16:29:14   \n",
       "9    95294817         1  2017-11-10 15:20:29   2017-11-10 15:40:55   \n",
       "\n",
       "   passenger_count  trip_distance  RatecodeID store_and_fwd_flag  \\\n",
       "0                6           3.34           1                  N   \n",
       "1                1           1.80           1                  N   \n",
       "2                1           1.00           1                  N   \n",
       "3                1           3.70           1                  N   \n",
       "4                1           4.37           1                  N   \n",
       "5                6           2.30           1                  N   \n",
       "6                1          12.83           1                  N   \n",
       "7                1           2.98           1                  N   \n",
       "8                1           1.20           1                  N   \n",
       "9                1           1.60           1                  N   \n",
       "\n",
       "   PULocationID  DOLocationID  ...  mta_tax  tip_amount  tolls_amount  \\\n",
       "0           100           231  ...      0.5        2.76           0.0   \n",
       "1           186            43  ...      0.5        4.00           0.0   \n",
       "2           262           236  ...      0.5        1.45           0.0   \n",
       "3           188            97  ...      0.5        6.39           0.0   \n",
       "4             4           112  ...      0.5        0.00           0.0   \n",
       "5           161           236  ...      0.5        2.06           0.0   \n",
       "6            79           241  ...      0.5        9.86           0.0   \n",
       "7           237           114  ...      0.5        1.78           0.0   \n",
       "8           234           249  ...      0.5        0.00           0.0   \n",
       "9           239           237  ...      0.5        2.75           0.0   \n",
       "\n",
       "   improvement_surcharge  total_amount   trip_duration  month_start  \\\n",
       "0                    0.3         16.56 0 days 00:14:04           03   \n",
       "1                    0.3         20.80 0 days 00:26:30           04   \n",
       "2                    0.3          8.75 0 days 00:07:12           12   \n",
       "3                    0.3         27.69 0 days 00:30:15           05   \n",
       "4                    0.3         17.80 0 days 00:16:43           04   \n",
       "5                    0.3         12.36 0 days 00:08:00           03   \n",
       "6                    0.3         59.16 0 days 00:59:38           05   \n",
       "7                    0.3         19.58 0 days 00:21:59           08   \n",
       "8                    0.3          9.80 0 days 00:12:07           02   \n",
       "9                    0.3         16.55 0 days 00:20:26           11   \n",
       "\n",
       "   month_end day_start day_end  \n",
       "0         03        25      25  \n",
       "1         04        11      11  \n",
       "2         12        15      15  \n",
       "3         05        07      07  \n",
       "4         04        15      15  \n",
       "5         03        25      25  \n",
       "6         05        03      03  \n",
       "7         08        15      15  \n",
       "8         02        04      04  \n",
       "9         11        10      10  \n",
       "\n",
       "[10 rows x 23 columns]"
      ]
     },
     "execution_count": 37,
     "metadata": {},
     "output_type": "execute_result"
    }
   ],
   "source": [
    "df.head(10)"
   ]
  },
  {
   "cell_type": "markdown",
   "metadata": {
    "id": "U4HeITeOwXfo"
   },
   "source": [
    "### Task 4b. Conclusion\n",
    "*Make it professional and presentable*\n",
    "\n",
    "You have visualized the data you need to share with the director now. Remember, the goal of a data visualization is for an audience member to glean the information on the chart in mere seconds.\n",
    "\n",
    "*Questions to ask yourself for reflection:*\n",
    "Why is it important to conduct Exploratory Data Analysis? Why are the data visualizations provided in this notebook useful?\n"
   ]
  },
  {
   "cell_type": "markdown",
   "metadata": {
    "id": "5o3dV6NYzNSs"
   },
   "source": [
    "\n",
    "EDA is important because it helps us to get to know our data, understand its outliers, clean its missing values, and prepare it for future modeling.\n",
    "\n",
    "\n",
    "Visualizations helped me understand that this dataset has some outliers that we will need to make decisions on prior to designing a model."
   ]
  },
  {
   "cell_type": "markdown",
   "metadata": {
    "id": "8JabFSqwwLrM"
   },
   "source": [
    "You’ve now completed professional data visualizations according to a business need. Well done! "
   ]
  },
  {
   "cell_type": "markdown",
   "metadata": {},
   "source": [
    "**Congratulations!** You've completed this lab. However, you may not notice a green check mark next to this item on Coursera's platform. Please continue your progress regardless of the check mark. Just click on the \"save\" icon at the top of this notebook to ensure your work has been logged."
   ]
  }
 ],
 "metadata": {
  "colab": {
   "collapsed_sections": [],
   "provenance": []
  },
  "kernelspec": {
   "display_name": "Python 3",
   "language": "python",
   "name": "python3"
  },
  "language_info": {
   "codemirror_mode": {
    "name": "ipython",
    "version": 3
   },
   "file_extension": ".py",
   "mimetype": "text/x-python",
   "name": "python",
   "nbconvert_exporter": "python",
   "pygments_lexer": "ipython3",
   "version": "3.7.6"
  }
 },
 "nbformat": 4,
 "nbformat_minor": 1
}
